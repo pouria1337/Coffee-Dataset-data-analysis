{
 "cells": [
  {
   "cell_type": "code",
   "execution_count": 1,
   "metadata": {},
   "outputs": [
    {
     "data": {
      "text/html": [
       "<div>\n",
       "<style scoped>\n",
       "    .dataframe tbody tr th:only-of-type {\n",
       "        vertical-align: middle;\n",
       "    }\n",
       "\n",
       "    .dataframe tbody tr th {\n",
       "        vertical-align: top;\n",
       "    }\n",
       "\n",
       "    .dataframe thead th {\n",
       "        text-align: right;\n",
       "    }\n",
       "</style>\n",
       "<table border=\"1\" class=\"dataframe\">\n",
       "  <thead>\n",
       "    <tr style=\"text-align: right;\">\n",
       "      <th></th>\n",
       "      <th>coffee_type</th>\n",
       "      <th>rating</th>\n",
       "      <th>reviews</th>\n",
       "      <th>price</th>\n",
       "    </tr>\n",
       "  </thead>\n",
       "  <tbody>\n",
       "    <tr>\n",
       "      <th>0</th>\n",
       "      <td>classic roast</td>\n",
       "      <td>3.8</td>\n",
       "      <td>93</td>\n",
       "      <td>13.92</td>\n",
       "    </tr>\n",
       "    <tr>\n",
       "      <th>1</th>\n",
       "      <td>espresso,dark roast</td>\n",
       "      <td>4.7</td>\n",
       "      <td>914</td>\n",
       "      <td>3.76</td>\n",
       "    </tr>\n",
       "    <tr>\n",
       "      <th>2</th>\n",
       "      <td>medium roast,classic roast</td>\n",
       "      <td>4.4</td>\n",
       "      <td>740</td>\n",
       "      <td>9.97</td>\n",
       "    </tr>\n",
       "    <tr>\n",
       "      <th>3</th>\n",
       "      <td>classic roast</td>\n",
       "      <td>4.7</td>\n",
       "      <td>1598</td>\n",
       "      <td>9.98</td>\n",
       "    </tr>\n",
       "    <tr>\n",
       "      <th>4</th>\n",
       "      <td>classic roast</td>\n",
       "      <td>4.2</td>\n",
       "      <td>263</td>\n",
       "      <td>7.98</td>\n",
       "    </tr>\n",
       "    <tr>\n",
       "      <th>...</th>\n",
       "      <td>...</td>\n",
       "      <td>...</td>\n",
       "      <td>...</td>\n",
       "      <td>...</td>\n",
       "    </tr>\n",
       "    <tr>\n",
       "      <th>1009</th>\n",
       "      <td>espresso,espresso roast</td>\n",
       "      <td>4.0</td>\n",
       "      <td>4</td>\n",
       "      <td>17.97</td>\n",
       "    </tr>\n",
       "    <tr>\n",
       "      <th>1010</th>\n",
       "      <td>dark roast</td>\n",
       "      <td>0.0</td>\n",
       "      <td>0</td>\n",
       "      <td>12.30</td>\n",
       "    </tr>\n",
       "    <tr>\n",
       "      <th>1011</th>\n",
       "      <td>espresso,dark roast</td>\n",
       "      <td>0.0</td>\n",
       "      <td>0</td>\n",
       "      <td>10.99</td>\n",
       "    </tr>\n",
       "    <tr>\n",
       "      <th>1012</th>\n",
       "      <td>arabica,dark roast</td>\n",
       "      <td>4.3</td>\n",
       "      <td>5036</td>\n",
       "      <td>12.98</td>\n",
       "    </tr>\n",
       "    <tr>\n",
       "      <th>1013</th>\n",
       "      <td>arabica,medium roast</td>\n",
       "      <td>4.5</td>\n",
       "      <td>397</td>\n",
       "      <td>17.72</td>\n",
       "    </tr>\n",
       "  </tbody>\n",
       "</table>\n",
       "<p>1014 rows × 4 columns</p>\n",
       "</div>"
      ],
      "text/plain": [
       "                     coffee_type  rating  reviews  price\n",
       "0                  classic roast     3.8       93  13.92\n",
       "1            espresso,dark roast     4.7      914   3.76\n",
       "2     medium roast,classic roast     4.4      740   9.97\n",
       "3                  classic roast     4.7     1598   9.98\n",
       "4                  classic roast     4.2      263   7.98\n",
       "...                          ...     ...      ...    ...\n",
       "1009     espresso,espresso roast     4.0        4  17.97\n",
       "1010                  dark roast     0.0        0  12.30\n",
       "1011         espresso,dark roast     0.0        0  10.99\n",
       "1012          arabica,dark roast     4.3     5036  12.98\n",
       "1013        arabica,medium roast     4.5      397  17.72\n",
       "\n",
       "[1014 rows x 4 columns]"
      ]
     },
     "execution_count": 1,
     "metadata": {},
     "output_type": "execute_result"
    }
   ],
   "source": [
    "import pandas as pd\n",
    "my_data = pd.read_csv(\"../clean/coffeeCleaned.csv\")\n",
    "my_data"
   ]
  },
  {
   "cell_type": "markdown",
   "metadata": {},
   "source": [
    "<font size = \"3\">\n",
    "Data is way too sparse. Each coffee product is riddled with various descriptions and this will make statistical analysis and machine learning classification essentially impossible. Therefore, data unfication is in order.\n",
    "</font>"
   ]
  },
  {
   "cell_type": "code",
   "execution_count": 2,
   "metadata": {},
   "outputs": [
    {
     "name": "stdout",
     "output_type": "stream",
     "text": [
      " -  classic roast\n",
      " -  espresso,dark roast\n",
      " -  medium roast,classic roast\n",
      " -  classic roast\n",
      " -  classic roast\n",
      " -  espresso,dark roast\n",
      " -  black rifle coffee,dark roast\n",
      " -  medium roast,black rifle coffee\n",
      " -  black silk ground coffee,dark roast\n",
      " -  black silk ground coffee,dark roast\n",
      "--------------------\n",
      "Example for unification:\n",
      "\n",
      "<espresso,dark roast> will simply become <dark roast>\n"
     ]
    }
   ],
   "source": [
    "type_list = list(my_data[\"coffee_type\"])\n",
    "for _ in type_list[:10]:\n",
    "    print(\" - \", _)\n",
    "print(\"-\" * 20)\n",
    "print(\"Example for unification:\\n\")\n",
    "print(\"<{}> will simply become <{}>\".format(type_list[1], \"dark roast\"))"
   ]
  },
  {
   "cell_type": "code",
   "execution_count": 3,
   "metadata": {},
   "outputs": [
    {
     "name": "stdout",
     "output_type": "stream",
     "text": [
      "['classic roast', 'dark roast', 'medium roast', 'classic roast', 'classic roast', 'dark roast', 'dark roast', 'medium roast', 'dark roast', 'dark roast']\n",
      "There are still 42 unique coffee types. "
     ]
    }
   ],
   "source": [
    "def unify_it():\n",
    "    for i, j in enumerate(type_list):\n",
    "        if \"light\" in j:\n",
    "            type_list[i] = \"light roast\"\n",
    "        elif \"medium\" in j:\n",
    "            type_list[i] = \"medium roast\"\n",
    "        elif \"dark\" in j:\n",
    "            type_list[i] = \"dark roast\"\n",
    "        elif \"classic\" in j:\n",
    "            type_list[i] = \"classic roast\"\n",
    "    return type_list\n",
    "unify_it()\n",
    "print(type_list[:10])\n",
    "print(\"There are still {} unique coffee types.\".format(len(set(type_list))), end =\" \")"
   ]
  },
  {
   "cell_type": "code",
   "execution_count": 4,
   "metadata": {},
   "outputs": [
    {
     "data": {
      "text/html": [
       "<div>\n",
       "<style scoped>\n",
       "    .dataframe tbody tr th:only-of-type {\n",
       "        vertical-align: middle;\n",
       "    }\n",
       "\n",
       "    .dataframe tbody tr th {\n",
       "        vertical-align: top;\n",
       "    }\n",
       "\n",
       "    .dataframe thead th {\n",
       "        text-align: right;\n",
       "    }\n",
       "</style>\n",
       "<table border=\"1\" class=\"dataframe\">\n",
       "  <thead>\n",
       "    <tr style=\"text-align: right;\">\n",
       "      <th></th>\n",
       "      <th>rating</th>\n",
       "      <th>reviews</th>\n",
       "      <th>price</th>\n",
       "      <th>coffee_type</th>\n",
       "    </tr>\n",
       "  </thead>\n",
       "  <tbody>\n",
       "    <tr>\n",
       "      <th>0</th>\n",
       "      <td>3.8</td>\n",
       "      <td>93</td>\n",
       "      <td>13.92</td>\n",
       "      <td>classic roast</td>\n",
       "    </tr>\n",
       "    <tr>\n",
       "      <th>1</th>\n",
       "      <td>4.7</td>\n",
       "      <td>914</td>\n",
       "      <td>3.76</td>\n",
       "      <td>dark roast</td>\n",
       "    </tr>\n",
       "    <tr>\n",
       "      <th>2</th>\n",
       "      <td>4.4</td>\n",
       "      <td>740</td>\n",
       "      <td>9.97</td>\n",
       "      <td>medium roast</td>\n",
       "    </tr>\n",
       "    <tr>\n",
       "      <th>3</th>\n",
       "      <td>4.7</td>\n",
       "      <td>1598</td>\n",
       "      <td>9.98</td>\n",
       "      <td>classic roast</td>\n",
       "    </tr>\n",
       "    <tr>\n",
       "      <th>4</th>\n",
       "      <td>4.2</td>\n",
       "      <td>263</td>\n",
       "      <td>7.98</td>\n",
       "      <td>classic roast</td>\n",
       "    </tr>\n",
       "    <tr>\n",
       "      <th>...</th>\n",
       "      <td>...</td>\n",
       "      <td>...</td>\n",
       "      <td>...</td>\n",
       "      <td>...</td>\n",
       "    </tr>\n",
       "    <tr>\n",
       "      <th>1009</th>\n",
       "      <td>4.0</td>\n",
       "      <td>4</td>\n",
       "      <td>17.97</td>\n",
       "      <td>espresso,espresso roast</td>\n",
       "    </tr>\n",
       "    <tr>\n",
       "      <th>1010</th>\n",
       "      <td>0.0</td>\n",
       "      <td>0</td>\n",
       "      <td>12.30</td>\n",
       "      <td>dark roast</td>\n",
       "    </tr>\n",
       "    <tr>\n",
       "      <th>1011</th>\n",
       "      <td>0.0</td>\n",
       "      <td>0</td>\n",
       "      <td>10.99</td>\n",
       "      <td>dark roast</td>\n",
       "    </tr>\n",
       "    <tr>\n",
       "      <th>1012</th>\n",
       "      <td>4.3</td>\n",
       "      <td>5036</td>\n",
       "      <td>12.98</td>\n",
       "      <td>dark roast</td>\n",
       "    </tr>\n",
       "    <tr>\n",
       "      <th>1013</th>\n",
       "      <td>4.5</td>\n",
       "      <td>397</td>\n",
       "      <td>17.72</td>\n",
       "      <td>medium roast</td>\n",
       "    </tr>\n",
       "  </tbody>\n",
       "</table>\n",
       "<p>1014 rows × 4 columns</p>\n",
       "</div>"
      ],
      "text/plain": [
       "      rating  reviews  price              coffee_type\n",
       "0        3.8       93  13.92            classic roast\n",
       "1        4.7      914   3.76               dark roast\n",
       "2        4.4      740   9.97             medium roast\n",
       "3        4.7     1598   9.98            classic roast\n",
       "4        4.2      263   7.98            classic roast\n",
       "...      ...      ...    ...                      ...\n",
       "1009     4.0        4  17.97  espresso,espresso roast\n",
       "1010     0.0        0  12.30               dark roast\n",
       "1011     0.0        0  10.99               dark roast\n",
       "1012     4.3     5036  12.98               dark roast\n",
       "1013     4.5      397  17.72             medium roast\n",
       "\n",
       "[1014 rows x 4 columns]"
      ]
     },
     "execution_count": 4,
     "metadata": {},
     "output_type": "execute_result"
    }
   ],
   "source": [
    "def reformat():\n",
    "    my_data.drop(columns=\"coffee_type\", inplace=True)\n",
    "    my_data[\"coffee_type\"] = type_list\n",
    "    return my_data\n",
    "reformat()"
   ]
  },
  {
   "cell_type": "code",
   "execution_count": 5,
   "metadata": {},
   "outputs": [
    {
     "data": {
      "text/html": [
       "<div>\n",
       "<style scoped>\n",
       "    .dataframe tbody tr th:only-of-type {\n",
       "        vertical-align: middle;\n",
       "    }\n",
       "\n",
       "    .dataframe tbody tr th {\n",
       "        vertical-align: top;\n",
       "    }\n",
       "\n",
       "    .dataframe thead th {\n",
       "        text-align: right;\n",
       "    }\n",
       "</style>\n",
       "<table border=\"1\" class=\"dataframe\">\n",
       "  <thead>\n",
       "    <tr style=\"text-align: right;\">\n",
       "      <th></th>\n",
       "      <th>rating</th>\n",
       "      <th>reviews</th>\n",
       "      <th>price</th>\n",
       "      <th>coffee_type</th>\n",
       "    </tr>\n",
       "  </thead>\n",
       "  <tbody>\n",
       "    <tr>\n",
       "      <th>0</th>\n",
       "      <td>3.8</td>\n",
       "      <td>5</td>\n",
       "      <td>12.98</td>\n",
       "      <td>light roast</td>\n",
       "    </tr>\n",
       "    <tr>\n",
       "      <th>1</th>\n",
       "      <td>4.6</td>\n",
       "      <td>64</td>\n",
       "      <td>4.94</td>\n",
       "      <td>light roast</td>\n",
       "    </tr>\n",
       "    <tr>\n",
       "      <th>2</th>\n",
       "      <td>4.7</td>\n",
       "      <td>740</td>\n",
       "      <td>14.92</td>\n",
       "      <td>light roast</td>\n",
       "    </tr>\n",
       "    <tr>\n",
       "      <th>3</th>\n",
       "      <td>4.7</td>\n",
       "      <td>336</td>\n",
       "      <td>9.96</td>\n",
       "      <td>light roast</td>\n",
       "    </tr>\n",
       "    <tr>\n",
       "      <th>4</th>\n",
       "      <td>4.5</td>\n",
       "      <td>1924</td>\n",
       "      <td>26.72</td>\n",
       "      <td>light roast</td>\n",
       "    </tr>\n",
       "    <tr>\n",
       "      <th>...</th>\n",
       "      <td>...</td>\n",
       "      <td>...</td>\n",
       "      <td>...</td>\n",
       "      <td>...</td>\n",
       "    </tr>\n",
       "    <tr>\n",
       "      <th>818</th>\n",
       "      <td>4.7</td>\n",
       "      <td>98</td>\n",
       "      <td>10.64</td>\n",
       "      <td>dark roast</td>\n",
       "    </tr>\n",
       "    <tr>\n",
       "      <th>819</th>\n",
       "      <td>0.0</td>\n",
       "      <td>0</td>\n",
       "      <td>15.11</td>\n",
       "      <td>dark roast</td>\n",
       "    </tr>\n",
       "    <tr>\n",
       "      <th>820</th>\n",
       "      <td>0.0</td>\n",
       "      <td>0</td>\n",
       "      <td>12.30</td>\n",
       "      <td>dark roast</td>\n",
       "    </tr>\n",
       "    <tr>\n",
       "      <th>821</th>\n",
       "      <td>0.0</td>\n",
       "      <td>0</td>\n",
       "      <td>10.99</td>\n",
       "      <td>dark roast</td>\n",
       "    </tr>\n",
       "    <tr>\n",
       "      <th>822</th>\n",
       "      <td>4.3</td>\n",
       "      <td>5036</td>\n",
       "      <td>12.98</td>\n",
       "      <td>dark roast</td>\n",
       "    </tr>\n",
       "  </tbody>\n",
       "</table>\n",
       "<p>823 rows × 4 columns</p>\n",
       "</div>"
      ],
      "text/plain": [
       "     rating  reviews  price  coffee_type\n",
       "0       3.8        5  12.98  light roast\n",
       "1       4.6       64   4.94  light roast\n",
       "2       4.7      740  14.92  light roast\n",
       "3       4.7      336   9.96  light roast\n",
       "4       4.5     1924  26.72  light roast\n",
       "..      ...      ...    ...          ...\n",
       "818     4.7       98  10.64   dark roast\n",
       "819     0.0        0  15.11   dark roast\n",
       "820     0.0        0  12.30   dark roast\n",
       "821     0.0        0  10.99   dark roast\n",
       "822     4.3     5036  12.98   dark roast\n",
       "\n",
       "[823 rows x 4 columns]"
      ]
     },
     "execution_count": 5,
     "metadata": {},
     "output_type": "execute_result"
    }
   ],
   "source": [
    "def target_only():\n",
    "    x = my_data[my_data[\"coffee_type\"] == \"light roast\"].index\n",
    "    y = my_data[my_data[\"coffee_type\"] == \"medium roast\"].index\n",
    "    z = my_data[my_data[\"coffee_type\"] == \"dark roast\"].index\n",
    "    omega =  pd.concat([my_data.iloc[x], my_data.iloc[y], my_data.iloc[z]], axis=0)\n",
    "    omega.reset_index(drop = True, inplace = True)\n",
    "    return omega\n",
    "target_types = target_only()\n",
    "target_types"
   ]
  },
  {
   "cell_type": "code",
   "execution_count": 6,
   "metadata": {},
   "outputs": [],
   "source": [
    "target_types.to_csv(\"./coffeeProcessed.csv\", index = False)"
   ]
  },
  {
   "cell_type": "markdown",
   "metadata": {},
   "source": [
    "# Pre-process for statistical analysis\n",
    "<font size = \"3\">\n",
    "Rows with coffee types with either of \"light, medium, or dark\" variants will be chosen. Then, for each type, and for each numerical column the average will be calculated & used for plotting.\n",
    "</font>"
   ]
  },
  {
   "cell_type": "code",
   "execution_count": 6,
   "metadata": {},
   "outputs": [
    {
     "name": "stdout",
     "output_type": "stream",
     "text": [
      "light:  68\n",
      "medium:  514\n",
      "dark:  241\n",
      "[[rating       247.70\n",
      "reviews    38537.00\n",
      "price       1189.34\n",
      "dtype: float64], [rating       2232.40\n",
      "reviews    279073.00\n",
      "price        7179.94\n",
      "dtype: float64], [rating       1046.50\n",
      "reviews    105120.00\n",
      "price        2975.65\n",
      "dtype: float64]]\n"
     ]
    }
   ],
   "source": [
    "def target_only():\n",
    "    x = my_data[my_data[\"coffee_type\"] == \"light roast\"].index\n",
    "    y = my_data[my_data[\"coffee_type\"] == \"medium roast\"].index\n",
    "    z = my_data[my_data[\"coffee_type\"] == \"dark roast\"].index\n",
    "    discrete_df = [my_data.iloc[x], my_data.iloc[y], my_data.iloc[z]]\n",
    "    totals = []\n",
    "    for i in discrete_df:\n",
    "        temp = []\n",
    "        temp.append(i.sum(numeric_only = True))\n",
    "        totals.append(temp)\n",
    "    print(\"light: \", len(x))\n",
    "    print(\"medium: \", len(y))\n",
    "    print(\"dark: \", len(z))\n",
    "    return totals\n",
    "total_list = target_only()\n",
    "print(total_list)\n"
   ]
  },
  {
   "cell_type": "markdown",
   "metadata": {},
   "source": [
    "# Create 2 dataframes for basic plotting\n",
    "<font size = \"3\">\n",
    "I will create two dataframes both of which will feature only three rows:<br>\n",
    "1 - The sum of each numerical column for each coffee type<br>\n",
    "2 - The average of each numerical column for each coffee type\n",
    "</font>"
   ]
  },
  {
   "cell_type": "code",
   "execution_count": 9,
   "metadata": {},
   "outputs": [
    {
     "name": "stdout",
     "output_type": "stream",
     "text": [
      "Two dataframes have been created:\n",
      " - data[0]\n",
      " - data[1]\n",
      "Data[0] shows the total sum of the columns for each coffee type and data[1] show the average of the columns for each coffee type.\n"
     ]
    },
    {
     "data": {
      "text/plain": [
       "(              rating   reviews    price\n",
       " Light roast    247.7   38537.0  1189.34\n",
       " Medium roast  2232.4  279073.0  7179.94\n",
       " Dark roast    1046.5  105120.0  2975.65,\n",
       "                 rating     reviews      price\n",
       " Light roast   3.642647  566.720588  17.490294\n",
       " Medium roast  4.343191  542.943580  13.968755\n",
       " Dark roast    4.342324  436.182573  12.347095)"
      ]
     },
     "execution_count": 9,
     "metadata": {},
     "output_type": "execute_result"
    }
   ],
   "source": [
    "from numpy import average\n",
    "\n",
    "\n",
    "def create_df():\n",
    "    total_sum = []\n",
    "    total_average = []\n",
    "    type_length = [68, 514, 241]\n",
    "    for i in range(3):\n",
    "        temp = []\n",
    "        temp_average = []\n",
    "        for j in range(3):\n",
    "            temp.append(total_list[i][0][j])\n",
    "            temp_average.append(total_list[i][0][j] / type_length[i])\n",
    "        total_sum.append(temp)\n",
    "        total_average.append(temp_average)\n",
    "    sum_df = pd.DataFrame(total_sum, columns = [\"rating\", \"reviews\", \"price\"],\n",
    "            index = [\"Light roast\", \"Medium roast\", \"Dark roast\"])\n",
    "    average_df = pd.DataFrame(total_average, columns = [\"rating\", \"reviews\", \"price\"],\n",
    "            index = [\"Light roast\", \"Medium roast\", \"Dark roast\"])\n",
    "    return (sum_df, average_df)\n",
    "data = create_df()\n",
    "print(\"Two dataframes have been created:\\n - data[0]\\n - data[1]\")\n",
    "print(\"Data[0] shows the total sum of the columns for each coffee type\", end = \" \")\n",
    "print(\"and data[1] show the average of the columns for each coffee type.\")\n",
    "data"
   ]
  },
  {
   "cell_type": "markdown",
   "metadata": {},
   "source": [
    "# Basic statistics\n",
    "<font size = \"3\">\n",
    "The following two diagrams show the price, rating, and number of reviews for each coffee type.  \n",
    "</font>"
   ]
  },
  {
   "cell_type": "code",
   "execution_count": null,
   "metadata": {},
   "outputs": [
    {
     "data": {
      "text/plain": [
       "(<AxesSubplot: >, <AxesSubplot: >)"
      ]
     },
     "metadata": {},
     "output_type": "display_data"
    },
    {
     "data": {
      "image/png": "[encoded data removed]",
      "text/plain": [
       "<Figure size 640x480 with 1 Axes>"
      ]
     },
     "metadata": {},
     "output_type": "display_data"
    },
    {
     "data": {
      "image/png": "[encoded data removed]",
      "text/plain": [
       "<Figure size 640x480 with 1 Axes>"
      ]
     },
     "metadata": {},
     "output_type": "display_data"
    }
   ],
   "source": [
    "data[1].plot(y = [\"price\", \"rating\"], kind = \"bar\"), data[1].plot(y = [\"reviews\"], kind = \"bar\")"
   ]
  }
 ],
 "metadata": {
  "kernelspec": {
   "display_name": "datas",
   "language": "python",
   "name": "python3"
  },
  "language_info": {
   "codemirror_mode": {
    "name": "ipython",
    "version": 3
   },
   "file_extension": ".py",
   "mimetype": "text/x-python",
   "name": "python",
   "nbconvert_exporter": "python",
   "pygments_lexer": "ipython3",
   "version": "3.11.0"
  },
  "orig_nbformat": 4,
  "vscode": {
   "interpreter": {
    "hash": "a3da1e7b1e08cd5d365f45a29132bfda08120ce306f06f991585433a3a977c9a"
   }
  }
 },
 "nbformat": 4,
 "nbformat_minor": 2
}
