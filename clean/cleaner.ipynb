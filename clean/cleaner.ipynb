{
 "cells": [
  {
   "cell_type": "code",
   "execution_count": 2,
   "metadata": {},
   "outputs": [],
   "source": [
    "import pandas as pd"
   ]
  },
  {
   "cell_type": "markdown",
   "metadata": {},
   "source": [
    "# Read Data into a DataFrame\n",
    "<font size = \"2\">\n",
    "This dataset has 9 columns or features. Features of interest to me are:\n",
    "[coffee_type, rating, weight_formatted_to_grams].<br>\n",
    "Furthermore, some rows have unspecified value for the weight column \"not mentioned\". For that reason, I set the padnas reader to recognize that string as NaN.\n",
    "</font>"
   ]
  },
  {
   "cell_type": "code",
   "execution_count": 6,
   "metadata": {},
   "outputs": [
    {
     "name": "stdout",
     "output_type": "stream",
     "text": [
      "Columns are:\n",
      " -  title\n",
      " -  coffee_type\n",
      " -  rating\n",
      " -  reviews\n",
      " -  seller_name\n",
      " -  thumbnail\n",
      " -  price\n",
      " -  weight\n",
      " -  weight_formatted_to_gramms\n",
      "The length of dataset in terms of rows =  1400\n"
     ]
    }
   ],
   "source": [
    "my_data = pd.read_csv(\"coffee-listings-from-all-walmart-stores.csv\", \n",
    "                    na_values=[\"not mentioned\", \"\", \" \"])\n",
    "\n",
    "print(\"Columns are:\")\n",
    "for _ in my_data:\n",
    "    print(\" - \", _)\n",
    "print(\"The length of dataset in terms of rows = \", len(my_data))"
   ]
  },
  {
   "cell_type": "markdown",
   "metadata": {},
   "source": [
    "# Drop NaN rows, reset index\n",
    "<font size = \"2\">\n",
    "Dropping rows with NaN values reduces the number of rows from 1400 to 1014. However, the indices still show 1400 and will cause issues in teh long run. Thus, index will be reset.\n",
    "</font>"
   ]
  },
  {
   "cell_type": "code",
   "execution_count": 49,
   "metadata": {},
   "outputs": [
    {
     "name": "stdout",
     "output_type": "stream",
     "text": [
      "386 rows removed.\n",
      "\n"
     ]
    }
   ],
   "source": [
    "def clean(data):\n",
    "    cdata =  data.dropna()\n",
    "    print(len(data) - len(cdata), \"rows removed.\\n\")\n",
    "    cdata.reset_index(inplace = True, drop = True)\n",
    "    return cdata\n",
    "my_data = clean(my_data)\n"
   ]
  },
  {
   "cell_type": "markdown",
   "metadata": {},
   "source": [
    "# Get only three rows\n",
    "<font size = \"2\">\n",
    "The number of rows and corresponding index match. Now to remove uneeded columns we create a copy of my_data with only those columns. Below is the resulting DataFrame with which I'll be doing basic statiscal plotting and then classification + machine learning.\n",
    "</font>"
   ]
  },
  {
   "cell_type": "code",
   "execution_count": 47,
   "metadata": {},
   "outputs": [
    {
     "data": {
      "text/html": [
       "<div>\n",
       "<style scoped>\n",
       "    .dataframe tbody tr th:only-of-type {\n",
       "        vertical-align: middle;\n",
       "    }\n",
       "\n",
       "    .dataframe tbody tr th {\n",
       "        vertical-align: top;\n",
       "    }\n",
       "\n",
       "    .dataframe thead th {\n",
       "        text-align: right;\n",
       "    }\n",
       "</style>\n",
       "<table border=\"1\" class=\"dataframe\">\n",
       "  <thead>\n",
       "    <tr style=\"text-align: right;\">\n",
       "      <th></th>\n",
       "      <th>coffee_type</th>\n",
       "      <th>rating</th>\n",
       "      <th>weight_formatted_to_gramms</th>\n",
       "    </tr>\n",
       "  </thead>\n",
       "  <tbody>\n",
       "    <tr>\n",
       "      <th>0</th>\n",
       "      <td>classic roast</td>\n",
       "      <td>3.8</td>\n",
       "      <td>1142.5</td>\n",
       "    </tr>\n",
       "    <tr>\n",
       "      <th>1</th>\n",
       "      <td>espresso,dark roast</td>\n",
       "      <td>4.7</td>\n",
       "      <td>283.5</td>\n",
       "    </tr>\n",
       "    <tr>\n",
       "      <th>2</th>\n",
       "      <td>medium roast,classic roast</td>\n",
       "      <td>4.4</td>\n",
       "      <td>734.3</td>\n",
       "    </tr>\n",
       "    <tr>\n",
       "      <th>3</th>\n",
       "      <td>classic roast</td>\n",
       "      <td>4.7</td>\n",
       "      <td>1360.8</td>\n",
       "    </tr>\n",
       "    <tr>\n",
       "      <th>4</th>\n",
       "      <td>classic roast</td>\n",
       "      <td>4.2</td>\n",
       "      <td>864.7</td>\n",
       "    </tr>\n",
       "    <tr>\n",
       "      <th>...</th>\n",
       "      <td>...</td>\n",
       "      <td>...</td>\n",
       "      <td>...</td>\n",
       "    </tr>\n",
       "    <tr>\n",
       "      <th>1009</th>\n",
       "      <td>espresso,espresso roast</td>\n",
       "      <td>4.0</td>\n",
       "      <td>510.3</td>\n",
       "    </tr>\n",
       "    <tr>\n",
       "      <th>1010</th>\n",
       "      <td>dark roast</td>\n",
       "      <td>0.0</td>\n",
       "      <td>283.5</td>\n",
       "    </tr>\n",
       "    <tr>\n",
       "      <th>1011</th>\n",
       "      <td>espresso,dark roast</td>\n",
       "      <td>0.0</td>\n",
       "      <td>249.5</td>\n",
       "    </tr>\n",
       "    <tr>\n",
       "      <th>1012</th>\n",
       "      <td>arabica,dark roast</td>\n",
       "      <td>4.3</td>\n",
       "      <td>340.2</td>\n",
       "    </tr>\n",
       "    <tr>\n",
       "      <th>1013</th>\n",
       "      <td>arabica,medium roast</td>\n",
       "      <td>4.5</td>\n",
       "      <td>623.7</td>\n",
       "    </tr>\n",
       "  </tbody>\n",
       "</table>\n",
       "<p>1014 rows × 3 columns</p>\n",
       "</div>"
      ],
      "text/plain": [
       "                     coffee_type  rating  weight_formatted_to_gramms\n",
       "0                  classic roast     3.8                      1142.5\n",
       "1            espresso,dark roast     4.7                       283.5\n",
       "2     medium roast,classic roast     4.4                       734.3\n",
       "3                  classic roast     4.7                      1360.8\n",
       "4                  classic roast     4.2                       864.7\n",
       "...                          ...     ...                         ...\n",
       "1009     espresso,espresso roast     4.0                       510.3\n",
       "1010                  dark roast     0.0                       283.5\n",
       "1011         espresso,dark roast     0.0                       249.5\n",
       "1012          arabica,dark roast     4.3                       340.2\n",
       "1013        arabica,medium roast     4.5                       623.7\n",
       "\n",
       "[1014 rows x 3 columns]"
      ]
     },
     "execution_count": 47,
     "metadata": {},
     "output_type": "execute_result"
    }
   ],
   "source": [
    "my_data = my_data[[\"coffee_type\", \"rating\", \"weight_formatted_to_gramms\"]]\n",
    "my_data"
   ]
  },
  {
   "cell_type": "markdown",
   "metadata": {},
   "source": [
    "# Save cleaned data to a .csv\n",
    "<font size = \"2\">\n",
    "pandas creates an index for the saved file by default. To prevent having 2 index columns in future, this default behaviour is cancelled. \n",
    "</font>"
   ]
  },
  {
   "cell_type": "code",
   "execution_count": 50,
   "metadata": {},
   "outputs": [],
   "source": [
    "my_data.to_csv(\"./coffeeCleaned.csv\", index = False)"
   ]
  }
 ],
 "metadata": {
  "kernelspec": {
   "display_name": "datas",
   "language": "python",
   "name": "python3"
  },
  "language_info": {
   "codemirror_mode": {
    "name": "ipython",
    "version": 3
   },
   "file_extension": ".py",
   "mimetype": "text/x-python",
   "name": "python",
   "nbconvert_exporter": "python",
   "pygments_lexer": "ipython3",
   "version": "3.11.0"
  },
  "orig_nbformat": 4,
  "vscode": {
   "interpreter": {
    "hash": "a3da1e7b1e08cd5d365f45a29132bfda08120ce306f06f991585433a3a977c9a"
   }
  }
 },
 "nbformat": 4,
 "nbformat_minor": 2
}
